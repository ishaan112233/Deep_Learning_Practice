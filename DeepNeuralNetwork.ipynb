{
  "nbformat": 4,
  "nbformat_minor": 0,
  "metadata": {
    "colab": {
      "name": "DeepNeuralNetwork.ipynb",
      "version": "0.3.2",
      "provenance": [],
      "collapsed_sections": [],
      "include_colab_link": true
    },
    "kernelspec": {
      "name": "python3",
      "display_name": "Python 3"
    },
    "accelerator": "GPU"
  },
  "cells": [
    {
      "cell_type": "markdown",
      "metadata": {
        "id": "view-in-github",
        "colab_type": "text"
      },
      "source": [
        "<a href=\"https://colab.research.google.com/github/ishaan112233/Deep_Learning_Practice/blob/master/DeepNeuralNetwork.ipynb\" target=\"_parent\"><img src=\"https://colab.research.google.com/assets/colab-badge.svg\" alt=\"Open In Colab\"/></a>"
      ]
    },
    {
      "metadata": {
        "id": "Jcsk78EPxlAh",
        "colab_type": "code",
        "colab": {
          "base_uri": "https://localhost:8080/",
          "height": 530
        },
        "outputId": "aa3801f7-c0cf-431e-adeb-f79b1b05f988"
      },
      "cell_type": "code",
      "source": [
        "import tensorflow as tf\n",
        "from tensorflow.examples.tutorials.mnist import input_data\n",
        "\n",
        "mnist = input_data.read_data_sets(\"/tmp/data\",one_hot=True)\n"
      ],
      "execution_count": 1,
      "outputs": [
        {
          "output_type": "stream",
          "text": [
            "WARNING:tensorflow:From <ipython-input-1-1b637de2a0fd>:4: read_data_sets (from tensorflow.contrib.learn.python.learn.datasets.mnist) is deprecated and will be removed in a future version.\n",
            "Instructions for updating:\n",
            "Please use alternatives such as official/mnist/dataset.py from tensorflow/models.\n",
            "WARNING:tensorflow:From /usr/local/lib/python3.6/dist-packages/tensorflow/contrib/learn/python/learn/datasets/mnist.py:260: maybe_download (from tensorflow.contrib.learn.python.learn.datasets.base) is deprecated and will be removed in a future version.\n",
            "Instructions for updating:\n",
            "Please write your own downloading logic.\n",
            "WARNING:tensorflow:From /usr/local/lib/python3.6/dist-packages/tensorflow/contrib/learn/python/learn/datasets/base.py:252: _internal_retry.<locals>.wrap.<locals>.wrapped_fn (from tensorflow.contrib.learn.python.learn.datasets.base) is deprecated and will be removed in a future version.\n",
            "Instructions for updating:\n",
            "Please use urllib or similar directly.\n",
            "Successfully downloaded train-images-idx3-ubyte.gz 9912422 bytes.\n",
            "WARNING:tensorflow:From /usr/local/lib/python3.6/dist-packages/tensorflow/contrib/learn/python/learn/datasets/mnist.py:262: extract_images (from tensorflow.contrib.learn.python.learn.datasets.mnist) is deprecated and will be removed in a future version.\n",
            "Instructions for updating:\n",
            "Please use tf.data to implement this functionality.\n",
            "Extracting /tmp/data/train-images-idx3-ubyte.gz\n",
            "Successfully downloaded train-labels-idx1-ubyte.gz 28881 bytes.\n",
            "WARNING:tensorflow:From /usr/local/lib/python3.6/dist-packages/tensorflow/contrib/learn/python/learn/datasets/mnist.py:267: extract_labels (from tensorflow.contrib.learn.python.learn.datasets.mnist) is deprecated and will be removed in a future version.\n",
            "Instructions for updating:\n",
            "Please use tf.data to implement this functionality.\n",
            "Extracting /tmp/data/train-labels-idx1-ubyte.gz\n",
            "WARNING:tensorflow:From /usr/local/lib/python3.6/dist-packages/tensorflow/contrib/learn/python/learn/datasets/mnist.py:110: dense_to_one_hot (from tensorflow.contrib.learn.python.learn.datasets.mnist) is deprecated and will be removed in a future version.\n",
            "Instructions for updating:\n",
            "Please use tf.one_hot on tensors.\n",
            "Successfully downloaded t10k-images-idx3-ubyte.gz 1648877 bytes.\n",
            "Extracting /tmp/data/t10k-images-idx3-ubyte.gz\n",
            "Successfully downloaded t10k-labels-idx1-ubyte.gz 4542 bytes.\n",
            "Extracting /tmp/data/t10k-labels-idx1-ubyte.gz\n",
            "WARNING:tensorflow:From /usr/local/lib/python3.6/dist-packages/tensorflow/contrib/learn/python/learn/datasets/mnist.py:290: DataSet.__init__ (from tensorflow.contrib.learn.python.learn.datasets.mnist) is deprecated and will be removed in a future version.\n",
            "Instructions for updating:\n",
            "Please use alternatives such as official/mnist/dataset.py from tensorflow/models.\n"
          ],
          "name": "stdout"
        }
      ]
    },
    {
      "metadata": {
        "id": "dwlXqT_yyAfd",
        "colab_type": "code",
        "colab": {}
      },
      "cell_type": "code",
      "source": [
        "hidden_layer1 = 500\n",
        "hidden_layer2 = 500\n",
        "hidden_layer3 = 500\n",
        "\n",
        "n_classes = 10\n",
        "batch_size = 100\n",
        "\n",
        "#height * width\n",
        "x = tf.placeholder('float',[None,784])\n",
        "y = tf.placeholder('float')\n",
        "\n",
        "def neural_net(data):\n",
        "\t#(ifnput_data * weights) + biases\n",
        "\thidden_1_layer = {'weights':tf.Variable(tf.random_normal([784,hidden_layer1])),\n",
        "\t\t\t\t\t  'biases':tf.Variable(tf.random_normal([hidden_layer1]))}\n",
        "\n",
        "\thidden_2_layer = {'weights':tf.Variable(tf.random_normal([hidden_layer1,hidden_layer2])),\n",
        "\t\t\t\t\t  'biases':tf.Variable(tf.random_normal([hidden_layer2]))}\n",
        "\n",
        "\thidden_3_layer = {'weights':tf.Variable(tf.random_normal([hidden_layer2,hidden_layer3])),\n",
        "\t\t\t\t\t  'biases':tf.Variable(tf.random_normal([hidden_layer3]))}\n",
        "\n",
        "\toutput_layer   = {'weights':tf.Variable(tf.random_normal([hidden_layer3,n_classes])),\n",
        "\t\t\t\t\t  'biases':tf.Variable(tf.random_normal([n_classes]))}\n",
        "\n",
        "\tl1 = tf.add(tf.matmul(data,hidden_1_layer['weights']),hidden_1_layer['biases'])\n",
        "\tl1 = tf.nn.relu(l1)\n",
        "\n",
        "\tl2 = tf.add(tf.matmul(l1,hidden_2_layer['weights']),hidden_2_layer['biases'])\n",
        "\tl1 = tf.nn.relu(l2)\n",
        "\t\n",
        "\tl3 = tf.add(tf.matmul(l2,hidden_3_layer['weights']),hidden_3_layer['biases'])\n",
        "\tl1 = tf.nn.relu(l1)\n",
        "\t\n",
        "\toutput = tf.matmul(l3,output_layer['weights'])+output_layer['biases']\n",
        "\t\n",
        "\treturn output\n",
        "\n",
        "def train_neural_network(x):\n",
        "\tprediction = neural_net(x)\n",
        "\t# tf.nn.softmax_cross_entropy_with_logits Compares with actual values of y with predicted value\n",
        "\tcost = tf.reduce_mean(tf.nn.softmax_cross_entropy_with_logits(logits=prediction, labels=y))\n",
        "\t#Optimizer like AdamOptimizer , SGD etc..\n",
        "\toptimizer = tf.train.AdamOptimizer().minimize(cost)\n",
        "\t#Epochs (FeedForward + Backpropagation  = 1Epoch)\n",
        "\tepoch_size = 10\n",
        "\n",
        "\twith tf.Session() as sess:\n",
        "\t\tsess.run(tf.initialize_all_variables())\n",
        "\t\tfor epoch in range(epoch_size):\n",
        "\t\t\tepoch_loss = 0\n",
        "\t\t\t#Tells us how many time we have to cycle\n",
        "\t\t\t# c: cost\n",
        "\t\t\tfor _ in range(int(mnist.train.num_examples / batch_size)):\n",
        "\t\t\t\tepochx , epochy = mnist.train.next_batch(batch_size)\n",
        "\t\t\t\t_ , c = sess.run([optimizer , cost] , feed_dict = {x:epochx , y:epochy})\n",
        "\t\t\t\tepoch_loss += c\n",
        "\t\t\tprint('Epoch' ,epoch ,'Completed out of' ,epoch_size ,'loss:' ,epoch_loss)\t\n",
        "\t\tcorrect = tf.equal(tf.argmax(prediction , 1) , tf.argmax(y , 1))\n",
        "\t\taccuracy = tf.reduce_mean(tf.cast(correct , 'float'))\n",
        "\t\tprint('Accuracy:',accuracy.eval({x:mnist.test.images , y:mnist.test.labels}))\n"
      ],
      "execution_count": 0,
      "outputs": []
    },
    {
      "metadata": {
        "id": "kR0j0nxEyLXc",
        "colab_type": "code",
        "colab": {
          "base_uri": "https://localhost:8080/",
          "height": 204
        },
        "outputId": "fa28fe33-554e-4987-ec61-64ff137aed74"
      },
      "cell_type": "code",
      "source": [
        "train_neural_network(x)"
      ],
      "execution_count": 15,
      "outputs": [
        {
          "output_type": "stream",
          "text": [
            "Epoch 0 Completed out of 10 loss: 3333582.23828125\n",
            "Epoch 1 Completed out of 10 loss: 963725.7980804443\n",
            "Epoch 2 Completed out of 10 loss: 622193.5806279182\n",
            "Epoch 3 Completed out of 10 loss: 438611.6640300751\n",
            "Epoch 4 Completed out of 10 loss: 337804.5519733429\n",
            "Epoch 5 Completed out of 10 loss: 258609.09201335907\n",
            "Epoch 6 Completed out of 10 loss: 206651.1467037201\n",
            "Epoch 7 Completed out of 10 loss: 169657.0464546755\n",
            "Epoch 8 Completed out of 10 loss: 150618.97596521676\n",
            "Epoch 9 Completed out of 10 loss: 131169.7426276505\n",
            "Accuracy: 0.9528\n"
          ],
          "name": "stdout"
        }
      ]
    },
    {
      "metadata": {
        "id": "kfkwP_mTyPWC",
        "colab_type": "code",
        "colab": {}
      },
      "cell_type": "code",
      "source": [
        ""
      ],
      "execution_count": 0,
      "outputs": []
    }
  ]
}